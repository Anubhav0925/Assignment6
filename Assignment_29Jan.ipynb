{
 "cells": [
  {
   "cell_type": "markdown",
   "id": "e2cce288-7bb1-47f4-bd8e-49c29cb4e345",
   "metadata": {},
   "source": [
    "Q1- Who developed Python Programming Language?"
   ]
  },
  {
   "cell_type": "markdown",
   "id": "79ef53f7-5810-4e0a-b82b-c607c50259e9",
   "metadata": {},
   "source": [
    "Answere1:-When he began implementing Python, Guido van Rossum was also reading the published scripts from “Monty Python's Flying Circus”, a BBC comedy series from the 1970s. Van Rossum thought he needed a name that was short, unique, and slightly mysterious, so he decided to call the language Python"
   ]
  },
  {
   "cell_type": "markdown",
   "id": "d562bfcc-22fe-4aa1-ad23-68ad5e644381",
   "metadata": {},
   "source": [
    "Q2:- Which type of Programming does Python support? "
   ]
  },
  {
   "cell_type": "markdown",
   "id": "f22ca959-9512-4a01-b240-9741263524f0",
   "metadata": {},
   "source": [
    "Answere2 :- Python is a multi-paradigm programming language. Object-oriented programming and structured programming are fully supported."
   ]
  },
  {
   "cell_type": "markdown",
   "id": "efc864bc-6a4c-43c7-a8dc-e754ab560d9a",
   "metadata": {},
   "source": [
    "Q3. Is Python case sensitive when dealing with identifiers? "
   ]
  },
  {
   "cell_type": "markdown",
   "id": "3d80dd8c-549a-44a5-b35b-60b4b0991a44",
   "metadata": {},
   "source": [
    "Answere:- Yes, Python is a case-sensitive language"
   ]
  },
  {
   "cell_type": "markdown",
   "id": "21ef76a6-2135-47cc-b4be-5baf2a6a73cd",
   "metadata": {},
   "source": [
    "Q4. What is the correct extension of the Python file? "
   ]
  },
  {
   "cell_type": "markdown",
   "id": "fe48c028-caca-4b86-857a-8f2cc979df45",
   "metadata": {},
   "source": [
    "Answere :-  \". py\" is the correct extension of the Python file"
   ]
  },
  {
   "cell_type": "markdown",
   "id": "46059d7a-ba26-41f7-a923-4ba7340cbda7",
   "metadata": {},
   "source": [
    "Q5. Is Python code compiled or interpreted? "
   ]
  },
  {
   "cell_type": "markdown",
   "id": "d3a9124b-6026-4b04-ae3f-00a97470b791",
   "metadata": {},
   "source": [
    "Answere :-  Python is an interpreted language,"
   ]
  },
  {
   "cell_type": "markdown",
   "id": "bf05dc38-2404-40bc-8080-5a81c4442e61",
   "metadata": {},
   "source": [
    "Q6. Name a few blocks of code used to define in Python language? \n"
   ]
  },
  {
   "cell_type": "markdown",
   "id": "70d5ff21-268a-427f-b4e8-05cf445975b7",
   "metadata": {},
   "source": [
    "Answere:- a module, a function body, and a class definition. Each command typed interactively is a block"
   ]
  },
  {
   "cell_type": "markdown",
   "id": "58bd65fe-5bdc-44fc-918c-ee19e2630ccd",
   "metadata": {},
   "source": [
    "Q7. State a character used to give single-line comments in Python? \n"
   ]
  },
  {
   "cell_type": "markdown",
   "id": "3857d869-6ef2-457f-915b-1e96c713b16e",
   "metadata": {},
   "source": [
    "Answere:-  We can write a single-line comment by adding a single # character before any statement or line of code."
   ]
  },
  {
   "cell_type": "markdown",
   "id": "fdea7711-b925-41ba-8f13-a3a163f2bc23",
   "metadata": {},
   "source": [
    "Q8. Mention functions which can help us to find the version of python that we are currently working on?"
   ]
  },
  {
   "cell_type": "markdown",
   "id": "d9b99985-e94e-4193-82dd-de608a5041dc",
   "metadata": {},
   "source": [
    "Answere :- The function sys. version can help us to find the version of python that we are currently working on"
   ]
  },
  {
   "cell_type": "markdown",
   "id": "1f724e5c-07da-4cc8-9a27-01a24b82231c",
   "metadata": {},
   "source": [
    "Q9. Python supports the creation of anonymous functions at runtime, using a construct called \n"
   ]
  },
  {
   "cell_type": "markdown",
   "id": "8bc9f716-9eeb-4361-a14b-a7db38196edb",
   "metadata": {},
   "source": [
    "Answere :- Python supports the creation of anonymous functions (i.e. functions that are not bound to a name) at runtime, using a construct called lambda."
   ]
  },
  {
   "cell_type": "markdown",
   "id": "fa72d8b5-7c3c-47b1-94d8-39dfb0bfc3ca",
   "metadata": {},
   "source": [
    "Q10. What does pip stand for python? \n"
   ]
  },
  {
   "cell_type": "markdown",
   "id": "3f77975a-8690-40d2-849c-051587303c94",
   "metadata": {},
   "source": [
    "Answere :- pip (an acronym of “pip Install Packages”) is today the standard tool for installing Python packages and their dependencies in a secure manner"
   ]
  },
  {
   "cell_type": "markdown",
   "id": "dae110cc-acf1-487f-9294-12f488900120",
   "metadata": {},
   "source": [
    "Q11. Mention a few built-in functions in python? "
   ]
  },
  {
   "cell_type": "markdown",
   "id": "51920a35-2822-4245-80d4-a657b35f7ad1",
   "metadata": {},
   "source": [
    " Answere :-(i) Python abs()\n",
    "returns absolute value of a number\n",
    "(ii)Python all()\n",
    "returns true when all elements in iterable is true\n",
    "(iii)Python any()\n",
    "Checks if any Element of an Iterable is True\n",
    "(iv)Python bin()\n",
    "converts integer to binary string"
   ]
  },
  {
   "cell_type": "markdown",
   "id": "dbc832c8-fa76-4203-b96f-1fd11da5ca0b",
   "metadata": {},
   "source": [
    "Q12. What is the maximum possible length of an identifier in Python? "
   ]
  },
  {
   "cell_type": "markdown",
   "id": "c35abb2a-b399-4369-9d57-2ce552220ce3",
   "metadata": {},
   "source": [
    "Answere :-An identifier can have a maximum length of 79 characters in Python."
   ]
  },
  {
   "cell_type": "markdown",
   "id": "793ac501-a8e2-4dd3-8927-20ff18e07ab5",
   "metadata": {},
   "source": [
    "Q13. What are the benefits of using Python? "
   ]
  },
  {
   "cell_type": "markdown",
   "id": "f4e0eedd-85ce-4440-9f50-695d745fd06f",
   "metadata": {},
   "source": [
    "Answere:- 1. Easy to Code\n",
    " 2. Easy to Read\n",
    " 3. Free and Open-Source\n",
    " 4. High-level Language\n",
    " 5. Simplify Complex Software Development"
   ]
  },
  {
   "cell_type": "markdown",
   "id": "5d3898e0-11c6-437c-8d00-3986540a4967",
   "metadata": {},
   "source": [
    "Q14. How is memory managed in Python?"
   ]
  },
  {
   "cell_type": "markdown",
   "id": "87b5309a-e13b-42b6-997e-d728056d7fba",
   "metadata": {},
   "source": [
    "Answere:- Memory management in Python involves a private heap containing all Python objects and data structures"
   ]
  },
  {
   "cell_type": "markdown",
   "id": "8b78b374-a0ac-427e-96a5-6f4f2456497c",
   "metadata": {},
   "source": [
    "Q15. How to install Python on Windows and set path variables? 16. Is indentation required in python? "
   ]
  },
  {
   "cell_type": "markdown",
   "id": "e65148d3-0396-4ab9-a7b3-7e86c62baca9",
   "metadata": {},
   "source": [
    "Answere :- Method 1: Install a Recent Version of Python\n",
    "  You can easily add Python to Windows path by downloading a recent version of Python, and then checking the box to Add Python to PATH at the bottom of the setup screen:\n",
    "Add Python to PATH Finish the installation, and you should be good to go.Alternatively, you may manually add the paths into the Environment variables.\n",
    "\n",
    "The PATH variable is a list of directories where each directory contains the executable file for a command.\n",
    "When a command is entered into the Windows command prompt, the prompt searches in the PATH variable for an executable file with the same name as the command; i​n the case that the required file is not found, it responds with an error message that states that​ the specified command was not recognized.\n",
    "\n",
    "The complete path of python.exe can be added by:\n",
    "\n",
    "(i)Right-clicking This PC and going to Properties.\n",
    "(ii)Clicking on the Advanced system settings in the menu on the left.\n",
    "(iii)Clicking on the Environment Variables button o​n the bottom right.\n",
    "(iv)In the System variables section, selecting the Path variable and clicking on Edit. The next screen will show all the directories that are currently a part of the PATH variable.\n",
    "(v)Clicking on New and entering Python’s install directory."
   ]
  },
  {
   "cell_type": "markdown",
   "id": "0321eb80-1972-43a3-92f7-f2a35f7edf2f",
   "metadata": {},
   "source": []
  },
  {
   "cell_type": "markdown",
   "id": "672b5d04-58e7-48fc-a247-ec015fd02295",
   "metadata": {},
   "source": [
    "Answere:-Indentation is mandatory in python to define the blocks of statements. "
   ]
  }
 ],
 "metadata": {
  "kernelspec": {
   "display_name": "Python 3 (ipykernel)",
   "language": "python",
   "name": "python3"
  },
  "language_info": {
   "codemirror_mode": {
    "name": "ipython",
    "version": 3
   },
   "file_extension": ".py",
   "mimetype": "text/x-python",
   "name": "python",
   "nbconvert_exporter": "python",
   "pygments_lexer": "ipython3",
   "version": "3.10.8"
  }
 },
 "nbformat": 4,
 "nbformat_minor": 5
}
